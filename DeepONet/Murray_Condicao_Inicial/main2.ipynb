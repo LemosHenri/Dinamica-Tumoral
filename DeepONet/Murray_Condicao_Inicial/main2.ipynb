{
 "cells": [
  {
   "cell_type": "code",
   "execution_count": 44,
   "id": "90ebb2ca",
   "metadata": {},
   "outputs": [],
   "source": [
    "import numpy as np\n",
    "import matplotlib.pyplot as plt\n",
    "import gstools as gs\n",
    "\n",
    "from tqdm import tqdm"
   ]
  },
  {
   "cell_type": "code",
   "execution_count": null,
   "id": "25ef5ea1",
   "metadata": {},
   "outputs": [],
   "source": [
    "def get_trunk():\n",
    "    \n",
    "    trunk = np.zeros(())"
   ]
  },
  {
   "cell_type": "code",
   "execution_count": 108,
   "id": "7319df5e",
   "metadata": {},
   "outputs": [],
   "source": [
    "class Rockne_FDM:\n",
    "\n",
    "    dx: float\n",
    "    dt: float\n",
    "    lb: float\n",
    "\n",
    "    s: callable\n",
    "    alpha: float\n",
    "    alpha_beta: float\n",
    "\n",
    "    def __init__(self, l: int, tf: int, d: float, p: float, alpha: float, alpha_beta: float, size_dom: int):\n",
    "\n",
    "        self.l = l\n",
    "        self.tf = tf\n",
    "        self.d = d\n",
    "        self.p = p\n",
    "        self.size_dom = size_dom\n",
    "\n",
    "        x = np.linspace(0, 1, size_dom, dtype=np.float32)\n",
    "        t = np.linspace(0, tf * p, tf, dtype=np.float32)\n",
    "\n",
    "        self.dx = x[1]\n",
    "        self.dt = t[1]\n",
    "        self.lb = (d * self.dt) / (p * l**2 * self.dx**2)\n",
    "\n",
    "        self.s = lambda d, a, ab: np.exp(-a * (d + (d**2 / ab)))\n",
    "        self.alpha = alpha \n",
    "        self.alpha_beta = alpha_beta\n",
    "\n",
    "    def MLQ(self, d: float) -> float:\n",
    "\n",
    "        if d == 0: return -1 \n",
    "        return -1 + (1 - self.s(d, self.alpha, self.alpha_beta)) / self.p\n",
    "\n",
    "    def __call__(self, x: np.ndarray, d: float = -1.0) -> np.ndarray:\n",
    "\n",
    "        a = np.zeros((self.size_dom, self.size_dom))\n",
    "        b = np.zeros((self.size_dom, self.size_dom))\n",
    "        gamma_a = 1. + 0.5 * self.dt * self.MLQ(d) + self.lb\n",
    "        gamma_b = 1. - 0.5 * self.dt * self.MLQ(d) - self.lb\n",
    "\n",
    "        a[0,0], a[-1, -1] = -3 / (4 * self.dx), 3 / (4 * self.dx)\n",
    "        a[0,1], a[-1, -2] =  1 / (self.dx), -1 / (self.dx)\n",
    "        a[0,2], a[-1, -3] = -1 / (4 * self.dx), 1 / (4 * self.dx)\n",
    "\n",
    "        b[0,0], b[-1, -1] =  3 / (4 * self.dx), -3 / (4 * self.dx)\n",
    "        b[0,1], b[-1, -2] = -1 / (self.dx), 1 / (self.dx)\n",
    "        b[0,2], b[-1, -3] =  1 / (4 * self.dx), -1 / (4 * self.dx)\n",
    "\n",
    "        for i in range(1, self.size_dom - 1):\n",
    "            a[i,i], b[i,i] = gamma_a, gamma_b\n",
    "            a[i,i+1], b[i,i+1] = -0.5 * self.lb, 0.5 * self.lb\n",
    "            a[i,i-1], b[i,i-1] = -0.5 * self.lb, 0.5 * self.lb\n",
    "\n",
    "        dir = b @ x\n",
    "        esq = np.linalg.solve(a, dir)\n",
    "        return esq\n",
    "\n",
    "class Database:\n",
    "\n",
    "    branch: np.array \n",
    "    trunk: np.array\n",
    "    target: np.array   \n",
    "\n",
    "    def __init__(self):\n",
    "\n",
    "        self.branch = None\n",
    "        self.trunk = None\n",
    "        self.target = None     \n",
    "\n",
    "    def generate_initial_conditions(self, data_size: int, lenght_size: int, variancia: float = 1.0, correlacao: float = 0.1):\n",
    "\n",
    "        initial_conditions = np.zeros((data_size, lenght_size))\n",
    "        x = np.linspace(0, 1, lenght_size)\n",
    "        for i in range(data_size):\n",
    "\n",
    "            model = gs.Gaussian(dim=1, var=variancia, len_scale=correlacao)\n",
    "            srf = gs.SRF(model)\n",
    "            initial_conditions[i] = srf(x)\n",
    "\n",
    "        return initial_conditions\n",
    "    \n",
    "    def generate_data(self, data_size: int, lenght_size: float, time_size: int):\n",
    "\n",
    "        branch = np.zeros((data_size, 100), dtype = np.float32)\n",
    "        initial_conditions = self.generate_initial_conditions(data_size, lenght_size)\n",
    "        for i in range(data_size): branch[i] = initial_conditions[i][::5]\n",
    "        self.branch = branch\n",
    "\n",
    "        x = np.linspace(0, 20, lenght_size)\n",
    "        t = np.arange(0, time_size, 1.0)\n",
    "        trunk = np.zeros((lenght_size * time_size, 2), dtype = np.float32)\n",
    "        for i in range(time_size):\n",
    "            for j in range(lenght_size):\n",
    "                trunk[i * lenght_size + j] = [t[i], x[j]]\n",
    "\n",
    "        self.trunk = trunk\n",
    "\n",
    "        target = np.zeros((data_size, time_size * lenght_size), dtype = np.float32)\n",
    "        for i in tqdm(range(data_size)):\n",
    "            \n",
    "            result = np.zeros((time_size, lenght_size))\n",
    "            model = Rockne_FDM(20, time_size, 0.0039, 0.0453, 0.0305, 10., lenght_size)\n",
    "            result[0] = initial_conditions[i]\n",
    "            for j in range(1, time_size): result[j] = model(result[j-1])\n",
    "            target[i] = result.flatten()\n",
    "\n",
    "        self.target = target\n",
    "\n",
    "    def save(self, local):\n",
    "\n",
    "        with open(local, 'wb') as f:\n",
    "\n",
    "            np.save(f, self.branch)\n",
    "            np.save(f, self.trunk)\n",
    "            np.save(f, self.target)"
   ]
  },
  {
   "cell_type": "code",
   "execution_count": 109,
   "id": "1c8515a7",
   "metadata": {},
   "outputs": [
    {
     "name": "stderr",
     "output_type": "stream",
     "text": [
      "100%|██████████| 10/10 [00:03<00:00,  2.84it/s]\n"
     ]
    }
   ],
   "source": [
    "database = Database()\n",
    "\n",
    "database.generate_data(10, 500, 80)"
   ]
  },
  {
   "cell_type": "code",
   "execution_count": 110,
   "id": "15300b24",
   "metadata": {},
   "outputs": [],
   "source": [
    "branch = database.branch\n",
    "target = database.target \n",
    "\n",
    "target = target.reshape((10, 80, 500))"
   ]
  },
  {
   "cell_type": "code",
   "execution_count": 116,
   "id": "ad95030a",
   "metadata": {},
   "outputs": [
    {
     "data": {
      "text/plain": [
       "(10, 100)"
      ]
     },
     "execution_count": 116,
     "metadata": {},
     "output_type": "execute_result"
    }
   ],
   "source": [
    "branch.shape"
   ]
  },
  {
   "cell_type": "code",
   "execution_count": 111,
   "id": "4001364e",
   "metadata": {},
   "outputs": [
    {
     "data": {
      "text/plain": [
       "[<matplotlib.lines.Line2D at 0x188bf3b2d50>]"
      ]
     },
     "execution_count": 111,
     "metadata": {},
     "output_type": "execute_result"
    },
    {
     "data": {
      "image/png": "[encoded data removed]",
      "text/plain": [
       "<Figure size 640x480 with 1 Axes>"
      ]
     },
     "metadata": {},
     "output_type": "display_data"
    }
   ],
   "source": [
    "plt.plot(branch[2])"
   ]
  },
  {
   "cell_type": "code",
   "execution_count": 112,
   "id": "40385881",
   "metadata": {},
   "outputs": [
    {
     "data": {
      "text/plain": [
       "<matplotlib.colorbar.Colorbar at 0x188bf42b610>"
      ]
     },
     "execution_count": 112,
     "metadata": {},
     "output_type": "execute_result"
    },
    {
     "data": {
      "image/png": "[encoded data removed]",
      "text/plain": [
       "<Figure size 640x480 with 2 Axes>"
      ]
     },
     "metadata": {},
     "output_type": "display_data"
    }
   ],
   "source": [
    "plt.pcolormesh(target[1], cmap = 'jet')\n",
    "plt.colorbar()"
   ]
  },
  {
   "cell_type": "code",
   "execution_count": 114,
   "id": "b4c2aa88",
   "metadata": {},
   "outputs": [
    {
     "data": {
      "text/plain": [
       "array([[0.0000000e+00, 0.0000000e+00],\n",
       "       [0.0000000e+00, 4.0080160e-02],\n",
       "       [0.0000000e+00, 8.0160320e-02],\n",
       "       ...,\n",
       "       [7.9000000e+01, 1.9919840e+01],\n",
       "       [7.9000000e+01, 1.9959919e+01],\n",
       "       [7.9000000e+01, 2.0000000e+01]], shape=(40000, 2), dtype=float32)"
      ]
     },
     "execution_count": 114,
     "metadata": {},
     "output_type": "execute_result"
    }
   ],
   "source": [
    "trunk = database.trunk\n",
    "trunk"
   ]
  },
  {
   "cell_type": "code",
   "execution_count": null,
   "id": "805b9d19",
   "metadata": {},
   "outputs": [
    {
     "data": {
      "text/plain": [
       "(100,)"
      ]
     },
     "execution_count": 62,
     "metadata": {},
     "output_type": "execute_result"
    }
   ],
   "source": [
    "x[::5]"
   ]
  },
  {
   "cell_type": "code",
   "execution_count": null,
   "id": "eba9b911",
   "metadata": {},
   "outputs": [],
   "source": []
  }
 ],
 "metadata": {
  "kernelspec": {
   "display_name": "Python 3",
   "language": "python",
   "name": "python3"
  },
  "language_info": {
   "codemirror_mode": {
    "name": "ipython",
    "version": 3
   },
   "file_extension": ".py",
   "mimetype": "text/x-python",
   "name": "python",
   "nbconvert_exporter": "python",
   "pygments_lexer": "ipython3",
   "version": "3.13.2"
  }
 },
 "nbformat": 4,
 "nbformat_minor": 5
}
